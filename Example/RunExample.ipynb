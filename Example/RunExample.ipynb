{
 "cells": [
  {
   "cell_type": "code",
   "execution_count": 3,
   "outputs": [
    {
     "name": "stdout",
     "text": [
      "+-------------------------------------+-------+------+\n",
      "|                Metric               |   P0  |  P1  |\n",
      "+-------------------------------------+-------+------+\n",
      "|    Outcome selected for analysis    |   1   |  1   |\n",
      "|           Information Gain          |  0.02 | 0.01 |\n",
      "|             Chi-squared             | 33.87 | 4.86 |\n",
      "|              Gini index             |  0.01 | 0.0  |\n",
      "|        Difference in Support        |  0.16 | 0.03 |\n",
      "|            Bigger Support           |  0.4  | 0.07 |\n",
      "|              Confidence             |  0.8  | 0.82 |\n",
      "|            All-Confidence           |  0.4  | 0.07 |\n",
      "|                 Lift                |  1.13 | 1.15 |\n",
      "|          Standardised Lift          |  0.8  | 0.82 |\n",
      "| Standardised Lift (with correction) |  -0.0 | 0.0  |\n",
      "|         Collective Strength         |  1.42 | 1.09 |\n",
      "|                Cosine               |  0.57 | 0.23 |\n",
      "|           Interestingness           |  0.32 | 0.05 |\n",
      "|          Comprehensibility          |  0.43 | 0.36 |\n",
      "|             Completeness            |  0.4  | 0.07 |\n",
      "|             Added Value             |  0.09 | 0.1  |\n",
      "|          Casual Confidence          |  0.62 | 0.43 |\n",
      "|            Casual Support           |  0.5  | 0.32 |\n",
      "|           Certainty Factor          |  0.32 | 0.36 |\n",
      "|              Conviction             |  1.48 | 1.56 |\n",
      "|          Coverage (Support)         |  0.35 | 0.06 |\n",
      "|   Descriptive Confirmed Confidence  |  0.61 | 0.63 |\n",
      "|      Difference of Proportions      |  0.14 | 0.11 |\n",
      "|     Example and Counter Example     |  0.76 | 0.77 |\n",
      "|           Imbalance Ratio           |  0.46 | 0.9  |\n",
      "|    Fisher's Exact Test (p-value)    |  0.0  | 0.02 |\n",
      "|           Hyper Confidence          |  1.0  | 0.98 |\n",
      "|              Hyper Lift             |  1.09 | 1.03 |\n",
      "|     Laplace Corrected Confidence    |  0.8  | 0.81 |\n",
      "|              Importance             |  0.61 | 0.63 |\n",
      "|         Jaccard Coefficient         |  0.36 | 0.07 |\n",
      "|              J-Measure              |  0.0  | 0.0  |\n",
      "|                Kappa                |  0.12 | 0.02 |\n",
      "|               Klosgen               |  0.05 | 0.02 |\n",
      "|              Kulczynski             |  0.6  | 0.44 |\n",
      "|       Goodman-Kruskal's Lambda      |  0.0  | 0.0  |\n",
      "|         Least Contradiction         |  0.3  | 0.05 |\n",
      "|          Lerman Similarity          |  2.51 | 1.15 |\n",
      "|          Piatetsky-Shapiro          |  0.03 | 0.01 |\n",
      "|            Max Confidence           |  0.8  | 0.82 |\n",
      "|              Odds Ratio             |  2.11 | 1.85 |\n",
      "|     Phi Correlation Coefficient     |  0.15 | 0.06 |\n",
      "|            Ralambondrainy           |  0.07 | 0.01 |\n",
      "|   Relative Linkage Disequilibrium   |  1.0  | 1.0  |\n",
      "|            Relative Risk            |  1.22 | 1.16 |\n",
      "|          Rule Power Factor          |  0.23 | 0.04 |\n",
      "|           Sebag-Schoenauer          |  4.13 | 4.44 |\n",
      "|                Yule Q               |  0.36 | 0.3  |\n",
      "|                Yule Y               |  0.18 | 0.15 |\n",
      "|           Weighted Support          |  0.35 | 0.06 |\n",
      "|        Weighted Rule Support        |  0.28 | 0.05 |\n",
      "|         Weighted Confidence         |  0.8  | 0.82 |\n",
      "|            Weighted Lift            |  1.13 | 1.15 |\n",
      "|       Statistical Significance      |  0.46 | 0.0  |\n",
      "|             FleBiC Score            |  2.02 | 0.0  |\n",
      "+-------------------------------------+-------+------+\n"
     ],
     "output_type": "stream"
    }
   ],
   "source": [
    "import pandas as pd\n",
    "from DISA.DISA import DISA\n",
    "\n",
    "\n",
    "data = pd.read_csv(\"../Example/yeast.csv\")\n",
    "\n",
    "class_information = {\n",
    "    \"values\": data[data.columns[0]],\n",
    "    \"outcome_value\": 1,\n",
    "    \"type\": \"Numerical\"\n",
    "}\n",
    "data = data.drop(columns=[data.columns[0]])\n",
    "patterns = [\n",
    "    {\n",
    "        #Mandatory field: Lines of the subspace\n",
    "        \"lines\": [1,4,9,10,11,12,21,23,32,33,37,43,44,49,51,58,60,61,63,66,79,85,86,89,90,92,93,95,100,101,105,106,107,109,111,112,113,118,126,129,131,134,135,136,138,140,143,144,145,147,148,151,152,154,155,156,160,161,163,165,166,167,168,169,170,173,174,176,178,179,180,183,185,186,187,189,192,201,203,210,214,227,230,231,232,235,236,237,240,242,244,246,247,249,252,254,255,256,257,258,260,261,264,266,275,277,279,280,285,296,297,298,303,307,310,316,317,321,324,329,330,332,335,340,341,345,347,350,351,353,354,357,358,360,361,364,372,373,375,376,379,380,381,383,384,389,391,394,396,398,401,405,406,407,408,409,416,421,423,425,427,430,431,433,435,436,437,438,440,441,442,444,445,446,449,462,467,469,474,475,480,481,486,487,489,498,501,502,504,507,509,515,516,518,519,522,525,533,541,542,543,544,545,550,553,554,559,563,571,573,574,575,577,585,586,598,600,602,604,607,613,615,622,628,633,636,638,652,653,657,660,661,665,668,671,672,673,681,682,683,684,685,687,688,690,691,692,694,696,697,706,709,713,716,717,718,721,738,740,742,743,746,750,757,766,769,770,774,776,778,780,781,782,793,794,798,799,800,801,802,804,806,807,810,814,816,824,827,832,834,835,839,840,843,846,851,855,857,861,864,870,872,874,875,877,878,881,882,885,886,888,891,894,899,902,903,906,907,911,913,914,917,924,927,928,929,935,936,939,944,946,947,948,950,951,954,956,957,958,959,960,961,971,972,973,976,980,981,983,984,985,986,987,988,989,990,994,1001,1002,1008,1009,1013,1016,1017,1018,1019,1023,1026,1027,1029,1030,1032,1035,1039,1041,1053,1056,1059,1061,1062,1069,1070,1071,1074,1078,1081,1090,1092,1094,1096,1098,1100,1101,1102,1105,1109,1111,1113,1116,1119,1120,1121,1122,1123,1124,1127,1133,1135,1140,1144,1146,1148,1149,1150,1155,1164,1165,1178,1181,1182,1183,1184,1189,1190,1191,1192,1194,1196,1200,1202,1204,1211,1213,1214,1215,1216,1217,1218,1223,1224,1226,1228,1229,1235,1250,1252,1253,1255,1256,1257,1258,1260,1261,1262,1263,1264,1266,1274,1278,1279,1281,1282,1283,1286,1292,1306,1312,1316,1317,1318,1320,1321,1327,1334,1336,1344,1347,1348,1359,1361,1370,1374,1375,1376,1378,1381,1382,1383,1384,1387,1390,1398,1401,1405,1407,1411,1416,1417,1418,1419,1425,1426,1427,1429,1430,1435,1441,1447,1448,1451,1452,1453,1455,1459,1463,1464,1466,1467,1468,1469,1477,1478,1482],\n",
    "        #Mandatory Field: Columns of the subspace\n",
    "        \"columns\": [\"mcg\",\"erl\",\"pox\"],\n",
    "        #Optional Field: Expected category or numerical value for each column in previous field\n",
    "        \"column_values\": [0,0,0],\n",
    "        #Optional Field: Expected value deviance (mainly for numerical variables e.g. 2.3 +- 0.7\n",
    "        \"noise\": [0.0,0.0,0.0],\n",
    "        #Optional Field: Type of patterns, the options are: Constant, Additive, Multiplicative, Order-Preserving\n",
    "        \"type\": \"Constant\"\n",
    "    },\n",
    "    {\n",
    "        \"lines\": [4,21,49,61,86,101,148,152,166,168,169,175,232,249,252,285,298,316,330,350,360,376,423,444,445,449,480,487,498,518,522,525,541,544,665,671,709,717,740,782,794,798,834,843,855,861,872,899,917,961,1071,1078,1102,1111,1116,1119,1120,1123,1140,1148,1165,1181,1183,1184,1190,1214,1216,1228,1321,1344,1375,1376,1382,1383,1384,1387,1388,1401,1417,1418,1425,1427,1430,1448,1453,1455,1466],\n",
    "        \"columns\": [\"mcg\",\"gvh\",\"alm\",\"erl\",\"pox\"],\n",
    "        \"column_values\": [0,0,0,0,0],\n",
    "        \"noise\": [0.0,0.0,0.0,0.0,0.0],\n",
    "        \"type\": \"Constant\"\n",
    "    }\n",
    "]\n",
    "\n",
    "discriminative_scores = DISA(data, patterns, class_information).assess_patterns(print_table=True)\n"
   ],
   "metadata": {
    "collapsed": false,
    "pycharm": {
     "name": "#%%\n",
     "is_executing": false
    }
   }
  }
 ],
 "metadata": {
  "kernelspec": {
   "display_name": "Python 3",
   "language": "python",
   "name": "python3"
  },
  "language_info": {
   "codemirror_mode": {
    "name": "ipython",
    "version": 3
   },
   "file_extension": ".py",
   "mimetype": "text/x-python",
   "name": "python",
   "nbconvert_exporter": "python",
   "pygments_lexer": "ipython3",
   "version": "3.7.4"
  },
  "pycharm": {
   "stem_cell": {
    "cell_type": "raw",
    "source": [],
    "metadata": {
     "collapsed": false
    }
   }
  }
 },
 "nbformat": 4,
 "nbformat_minor": 4
}